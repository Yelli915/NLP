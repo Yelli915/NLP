{
 "cells": [
  {
   "cell_type": "markdown",
   "metadata": {
    "id": "VUx1sk9raL_T"
   },
   "source": [
    "# 데이터 로드"
   ]
  },
  {
   "cell_type": "code",
   "execution_count": null,
   "metadata": {
    "colab": {
     "base_uri": "https://localhost:8080/",
     "height": 423
    },
    "executionInfo": {
     "elapsed": 697,
     "status": "ok",
     "timestamp": 1746617321419,
     "user": {
      "displayName": "Heegook Jun (쿠키)",
      "userId": "14918135347093685311"
     },
     "user_tz": -540
    },
    "id": "xUwrEK7zaLm4",
    "outputId": "ce4c2ac4-b42d-4f77-f563-fc2ecd7b1cc8"
   },
   "outputs": [
    {
     "data": {
      "application/vnd.google.colaboratory.intrinsic+json": {
       "summary": "{\n  \"name\": \"input_data\",\n  \"rows\": 19374,\n  \"fields\": [\n    {\n      \"column\": \"\\ubc1c\\ud654\\ubb38\",\n      \"properties\": {\n        \"dtype\": \"string\",\n        \"num_unique_values\": 16137,\n        \"samples\": [\n          \"\\ub098 \\uc9dc\\uc7a5\\uba74 \\uba39\\ub2e4\\uac00 \\uc74c\\uc2dd\\uc5d0\\uc11c \\ubc8c\\ub808\\uac00 \\ub098\\uc654\\uc5b4.\",\n          \"\\uadf8\\ub7f0 \\uc74c\\uc545 \\uc788\\uc73c\\uba74 \\ube68\\ub791\\ube68\\ub791 \\ucd94\\ucc9c \\uc880 \\ud574 \\uc918 \\ubd10.\",\n          \"\\uc5d8\\ub9ac\\ubca0\\uc774\\ud130 \\ubb38\\uc774 \\uc548\\uc5f4\\ub824\\uc11c \\ub108\\ubb34 \\ubb34\\uc11c\\uc6cc!\"\n        ],\n        \"semantic_type\": \"\",\n        \"description\": \"\"\n      }\n    },\n    {\n      \"column\": \"y\",\n      \"properties\": {\n        \"dtype\": \"number\",\n        \"std\": 1,\n        \"min\": 0,\n        \"max\": 6,\n        \"num_unique_values\": 7,\n        \"samples\": [\n          5,\n          4,\n          6\n        ],\n        \"semantic_type\": \"\",\n        \"description\": \"\"\n      }\n    }\n  ]\n}",
       "type": "dataframe",
       "variable_name": "input_data"
      },
      "text/html": [
       "\n",
       "  <div id=\"df-a4ffaee9-63bd-4377-b434-e5f34d38cb0b\" class=\"colab-df-container\">\n",
       "    <div>\n",
       "<style scoped>\n",
       "    .dataframe tbody tr th:only-of-type {\n",
       "        vertical-align: middle;\n",
       "    }\n",
       "\n",
       "    .dataframe tbody tr th {\n",
       "        vertical-align: top;\n",
       "    }\n",
       "\n",
       "    .dataframe thead th {\n",
       "        text-align: right;\n",
       "    }\n",
       "</style>\n",
       "<table border=\"1\" class=\"dataframe\">\n",
       "  <thead>\n",
       "    <tr style=\"text-align: right;\">\n",
       "      <th></th>\n",
       "      <th>발화문</th>\n",
       "      <th>y</th>\n",
       "    </tr>\n",
       "  </thead>\n",
       "  <tbody>\n",
       "    <tr>\n",
       "      <th>0</th>\n",
       "      <td>헐! 나 이벤트에 당첨 됐어.</td>\n",
       "      <td>5</td>\n",
       "    </tr>\n",
       "    <tr>\n",
       "      <th>1</th>\n",
       "      <td>내가 좋아하는 인플루언서가 이벤트를 하더라고. 그래서 그냥 신청 한번 해봤지.</td>\n",
       "      <td>5</td>\n",
       "    </tr>\n",
       "    <tr>\n",
       "      <th>2</th>\n",
       "      <td>한 명 뽑는 거였는데, 그게 바로 내가 된 거야.</td>\n",
       "      <td>5</td>\n",
       "    </tr>\n",
       "    <tr>\n",
       "      <th>3</th>\n",
       "      <td>당연히 마음에 드는 선물이니깐, 이벤트에 내가 신청 한번 해본 거지. 비싼 거야. ...</td>\n",
       "      <td>5</td>\n",
       "    </tr>\n",
       "    <tr>\n",
       "      <th>4</th>\n",
       "      <td>에피타이저 정말 좋아해. 그 것도 괜찮은 생각인 것 같애.</td>\n",
       "      <td>4</td>\n",
       "    </tr>\n",
       "    <tr>\n",
       "      <th>...</th>\n",
       "      <td>...</td>\n",
       "      <td>...</td>\n",
       "    </tr>\n",
       "    <tr>\n",
       "      <th>19369</th>\n",
       "      <td>나 엘리베이터에 갇혔어.</td>\n",
       "      <td>0</td>\n",
       "    </tr>\n",
       "    <tr>\n",
       "      <th>19370</th>\n",
       "      <td>하지만 기분이 나쁜 걸 어떡해?</td>\n",
       "      <td>2</td>\n",
       "    </tr>\n",
       "    <tr>\n",
       "      <th>19371</th>\n",
       "      <td>자취방 엘리베이턴데 정전인가봐.</td>\n",
       "      <td>0</td>\n",
       "    </tr>\n",
       "    <tr>\n",
       "      <th>19372</th>\n",
       "      <td>나 드디어 프로젝트 끝났어!</td>\n",
       "      <td>5</td>\n",
       "    </tr>\n",
       "    <tr>\n",
       "      <th>19373</th>\n",
       "      <td>걱정해줘서 고마워.</td>\n",
       "      <td>6</td>\n",
       "    </tr>\n",
       "  </tbody>\n",
       "</table>\n",
       "<p>19374 rows × 2 columns</p>\n",
       "</div>\n",
       "    <div class=\"colab-df-buttons\">\n",
       "\n",
       "  <div class=\"colab-df-container\">\n",
       "    <button class=\"colab-df-convert\" onclick=\"convertToInteractive('df-a4ffaee9-63bd-4377-b434-e5f34d38cb0b')\"\n",
       "            title=\"Convert this dataframe to an interactive table.\"\n",
       "            style=\"display:none;\">\n",
       "\n",
       "  <svg xmlns=\"http://www.w3.org/2000/svg\" height=\"24px\" viewBox=\"0 -960 960 960\">\n",
       "    <path d=\"M120-120v-720h720v720H120Zm60-500h600v-160H180v160Zm220 220h160v-160H400v160Zm0 220h160v-160H400v160ZM180-400h160v-160H180v160Zm440 0h160v-160H620v160ZM180-180h160v-160H180v160Zm440 0h160v-160H620v160Z\"/>\n",
       "  </svg>\n",
       "    </button>\n",
       "\n",
       "  <style>\n",
       "    .colab-df-container {\n",
       "      display:flex;\n",
       "      gap: 12px;\n",
       "    }\n",
       "\n",
       "    .colab-df-convert {\n",
       "      background-color: #E8F0FE;\n",
       "      border: none;\n",
       "      border-radius: 50%;\n",
       "      cursor: pointer;\n",
       "      display: none;\n",
       "      fill: #1967D2;\n",
       "      height: 32px;\n",
       "      padding: 0 0 0 0;\n",
       "      width: 32px;\n",
       "    }\n",
       "\n",
       "    .colab-df-convert:hover {\n",
       "      background-color: #E2EBFA;\n",
       "      box-shadow: 0px 1px 2px rgba(60, 64, 67, 0.3), 0px 1px 3px 1px rgba(60, 64, 67, 0.15);\n",
       "      fill: #174EA6;\n",
       "    }\n",
       "\n",
       "    .colab-df-buttons div {\n",
       "      margin-bottom: 4px;\n",
       "    }\n",
       "\n",
       "    [theme=dark] .colab-df-convert {\n",
       "      background-color: #3B4455;\n",
       "      fill: #D2E3FC;\n",
       "    }\n",
       "\n",
       "    [theme=dark] .colab-df-convert:hover {\n",
       "      background-color: #434B5C;\n",
       "      box-shadow: 0px 1px 3px 1px rgba(0, 0, 0, 0.15);\n",
       "      filter: drop-shadow(0px 1px 2px rgba(0, 0, 0, 0.3));\n",
       "      fill: #FFFFFF;\n",
       "    }\n",
       "  </style>\n",
       "\n",
       "    <script>\n",
       "      const buttonEl =\n",
       "        document.querySelector('#df-a4ffaee9-63bd-4377-b434-e5f34d38cb0b button.colab-df-convert');\n",
       "      buttonEl.style.display =\n",
       "        google.colab.kernel.accessAllowed ? 'block' : 'none';\n",
       "\n",
       "      async function convertToInteractive(key) {\n",
       "        const element = document.querySelector('#df-a4ffaee9-63bd-4377-b434-e5f34d38cb0b');\n",
       "        const dataTable =\n",
       "          await google.colab.kernel.invokeFunction('convertToInteractive',\n",
       "                                                    [key], {});\n",
       "        if (!dataTable) return;\n",
       "\n",
       "        const docLinkHtml = 'Like what you see? Visit the ' +\n",
       "          '<a target=\"_blank\" href=https://colab.research.google.com/notebooks/data_table.ipynb>data table notebook</a>'\n",
       "          + ' to learn more about interactive tables.';\n",
       "        element.innerHTML = '';\n",
       "        dataTable['output_type'] = 'display_data';\n",
       "        await google.colab.output.renderOutput(dataTable, element);\n",
       "        const docLink = document.createElement('div');\n",
       "        docLink.innerHTML = docLinkHtml;\n",
       "        element.appendChild(docLink);\n",
       "      }\n",
       "    </script>\n",
       "  </div>\n",
       "\n",
       "\n",
       "<div id=\"df-4b3aecaf-9683-4123-8af0-d5dc2a61885a\">\n",
       "  <button class=\"colab-df-quickchart\" onclick=\"quickchart('df-4b3aecaf-9683-4123-8af0-d5dc2a61885a')\"\n",
       "            title=\"Suggest charts\"\n",
       "            style=\"display:none;\">\n",
       "\n",
       "<svg xmlns=\"http://www.w3.org/2000/svg\" height=\"24px\"viewBox=\"0 0 24 24\"\n",
       "     width=\"24px\">\n",
       "    <g>\n",
       "        <path d=\"M19 3H5c-1.1 0-2 .9-2 2v14c0 1.1.9 2 2 2h14c1.1 0 2-.9 2-2V5c0-1.1-.9-2-2-2zM9 17H7v-7h2v7zm4 0h-2V7h2v10zm4 0h-2v-4h2v4z\"/>\n",
       "    </g>\n",
       "</svg>\n",
       "  </button>\n",
       "\n",
       "<style>\n",
       "  .colab-df-quickchart {\n",
       "      --bg-color: #E8F0FE;\n",
       "      --fill-color: #1967D2;\n",
       "      --hover-bg-color: #E2EBFA;\n",
       "      --hover-fill-color: #174EA6;\n",
       "      --disabled-fill-color: #AAA;\n",
       "      --disabled-bg-color: #DDD;\n",
       "  }\n",
       "\n",
       "  [theme=dark] .colab-df-quickchart {\n",
       "      --bg-color: #3B4455;\n",
       "      --fill-color: #D2E3FC;\n",
       "      --hover-bg-color: #434B5C;\n",
       "      --hover-fill-color: #FFFFFF;\n",
       "      --disabled-bg-color: #3B4455;\n",
       "      --disabled-fill-color: #666;\n",
       "  }\n",
       "\n",
       "  .colab-df-quickchart {\n",
       "    background-color: var(--bg-color);\n",
       "    border: none;\n",
       "    border-radius: 50%;\n",
       "    cursor: pointer;\n",
       "    display: none;\n",
       "    fill: var(--fill-color);\n",
       "    height: 32px;\n",
       "    padding: 0;\n",
       "    width: 32px;\n",
       "  }\n",
       "\n",
       "  .colab-df-quickchart:hover {\n",
       "    background-color: var(--hover-bg-color);\n",
       "    box-shadow: 0 1px 2px rgba(60, 64, 67, 0.3), 0 1px 3px 1px rgba(60, 64, 67, 0.15);\n",
       "    fill: var(--button-hover-fill-color);\n",
       "  }\n",
       "\n",
       "  .colab-df-quickchart-complete:disabled,\n",
       "  .colab-df-quickchart-complete:disabled:hover {\n",
       "    background-color: var(--disabled-bg-color);\n",
       "    fill: var(--disabled-fill-color);\n",
       "    box-shadow: none;\n",
       "  }\n",
       "\n",
       "  .colab-df-spinner {\n",
       "    border: 2px solid var(--fill-color);\n",
       "    border-color: transparent;\n",
       "    border-bottom-color: var(--fill-color);\n",
       "    animation:\n",
       "      spin 1s steps(1) infinite;\n",
       "  }\n",
       "\n",
       "  @keyframes spin {\n",
       "    0% {\n",
       "      border-color: transparent;\n",
       "      border-bottom-color: var(--fill-color);\n",
       "      border-left-color: var(--fill-color);\n",
       "    }\n",
       "    20% {\n",
       "      border-color: transparent;\n",
       "      border-left-color: var(--fill-color);\n",
       "      border-top-color: var(--fill-color);\n",
       "    }\n",
       "    30% {\n",
       "      border-color: transparent;\n",
       "      border-left-color: var(--fill-color);\n",
       "      border-top-color: var(--fill-color);\n",
       "      border-right-color: var(--fill-color);\n",
       "    }\n",
       "    40% {\n",
       "      border-color: transparent;\n",
       "      border-right-color: var(--fill-color);\n",
       "      border-top-color: var(--fill-color);\n",
       "    }\n",
       "    60% {\n",
       "      border-color: transparent;\n",
       "      border-right-color: var(--fill-color);\n",
       "    }\n",
       "    80% {\n",
       "      border-color: transparent;\n",
       "      border-right-color: var(--fill-color);\n",
       "      border-bottom-color: var(--fill-color);\n",
       "    }\n",
       "    90% {\n",
       "      border-color: transparent;\n",
       "      border-bottom-color: var(--fill-color);\n",
       "    }\n",
       "  }\n",
       "</style>\n",
       "\n",
       "  <script>\n",
       "    async function quickchart(key) {\n",
       "      const quickchartButtonEl =\n",
       "        document.querySelector('#' + key + ' button');\n",
       "      quickchartButtonEl.disabled = true;  // To prevent multiple clicks.\n",
       "      quickchartButtonEl.classList.add('colab-df-spinner');\n",
       "      try {\n",
       "        const charts = await google.colab.kernel.invokeFunction(\n",
       "            'suggestCharts', [key], {});\n",
       "      } catch (error) {\n",
       "        console.error('Error during call to suggestCharts:', error);\n",
       "      }\n",
       "      quickchartButtonEl.classList.remove('colab-df-spinner');\n",
       "      quickchartButtonEl.classList.add('colab-df-quickchart-complete');\n",
       "    }\n",
       "    (() => {\n",
       "      let quickchartButtonEl =\n",
       "        document.querySelector('#df-4b3aecaf-9683-4123-8af0-d5dc2a61885a button');\n",
       "      quickchartButtonEl.style.display =\n",
       "        google.colab.kernel.accessAllowed ? 'block' : 'none';\n",
       "    })();\n",
       "  </script>\n",
       "</div>\n",
       "\n",
       "  <div id=\"id_d06d9f0a-6dba-41d7-a8b2-f808222c821f\">\n",
       "    <style>\n",
       "      .colab-df-generate {\n",
       "        background-color: #E8F0FE;\n",
       "        border: none;\n",
       "        border-radius: 50%;\n",
       "        cursor: pointer;\n",
       "        display: none;\n",
       "        fill: #1967D2;\n",
       "        height: 32px;\n",
       "        padding: 0 0 0 0;\n",
       "        width: 32px;\n",
       "      }\n",
       "\n",
       "      .colab-df-generate:hover {\n",
       "        background-color: #E2EBFA;\n",
       "        box-shadow: 0px 1px 2px rgba(60, 64, 67, 0.3), 0px 1px 3px 1px rgba(60, 64, 67, 0.15);\n",
       "        fill: #174EA6;\n",
       "      }\n",
       "\n",
       "      [theme=dark] .colab-df-generate {\n",
       "        background-color: #3B4455;\n",
       "        fill: #D2E3FC;\n",
       "      }\n",
       "\n",
       "      [theme=dark] .colab-df-generate:hover {\n",
       "        background-color: #434B5C;\n",
       "        box-shadow: 0px 1px 3px 1px rgba(0, 0, 0, 0.15);\n",
       "        filter: drop-shadow(0px 1px 2px rgba(0, 0, 0, 0.3));\n",
       "        fill: #FFFFFF;\n",
       "      }\n",
       "    </style>\n",
       "    <button class=\"colab-df-generate\" onclick=\"generateWithVariable('input_data')\"\n",
       "            title=\"Generate code using this dataframe.\"\n",
       "            style=\"display:none;\">\n",
       "\n",
       "  <svg xmlns=\"http://www.w3.org/2000/svg\" height=\"24px\"viewBox=\"0 0 24 24\"\n",
       "       width=\"24px\">\n",
       "    <path d=\"M7,19H8.4L18.45,9,17,7.55,7,17.6ZM5,21V16.75L18.45,3.32a2,2,0,0,1,2.83,0l1.4,1.43a1.91,1.91,0,0,1,.58,1.4,1.91,1.91,0,0,1-.58,1.4L9.25,21ZM18.45,9,17,7.55Zm-12,3A5.31,5.31,0,0,0,4.9,8.1,5.31,5.31,0,0,0,1,6.5,5.31,5.31,0,0,0,4.9,4.9,5.31,5.31,0,0,0,6.5,1,5.31,5.31,0,0,0,8.1,4.9,5.31,5.31,0,0,0,12,6.5,5.46,5.46,0,0,0,6.5,12Z\"/>\n",
       "  </svg>\n",
       "    </button>\n",
       "    <script>\n",
       "      (() => {\n",
       "      const buttonEl =\n",
       "        document.querySelector('#id_d06d9f0a-6dba-41d7-a8b2-f808222c821f button.colab-df-generate');\n",
       "      buttonEl.style.display =\n",
       "        google.colab.kernel.accessAllowed ? 'block' : 'none';\n",
       "\n",
       "      buttonEl.onclick = () => {\n",
       "        google.colab.notebook.generateWithVariable('input_data');\n",
       "      }\n",
       "      })();\n",
       "    </script>\n",
       "  </div>\n",
       "\n",
       "    </div>\n",
       "  </div>\n"
      ],
      "text/plain": [
       "                                                     발화문  y\n",
       "0                                       헐! 나 이벤트에 당첨 됐어.  5\n",
       "1            내가 좋아하는 인플루언서가 이벤트를 하더라고. 그래서 그냥 신청 한번 해봤지.  5\n",
       "2                            한 명 뽑는 거였는데, 그게 바로 내가 된 거야.  5\n",
       "3      당연히 마음에 드는 선물이니깐, 이벤트에 내가 신청 한번 해본 거지. 비싼 거야. ...  5\n",
       "4                       에피타이저 정말 좋아해. 그 것도 괜찮은 생각인 것 같애.  4\n",
       "...                                                  ... ..\n",
       "19369                                      나 엘리베이터에 갇혔어.  0\n",
       "19370                                  하지만 기분이 나쁜 걸 어떡해?  2\n",
       "19371                                  자취방 엘리베이턴데 정전인가봐.  0\n",
       "19372                                    나 드디어 프로젝트 끝났어!  5\n",
       "19373                                         걱정해줘서 고마워.  6\n",
       "\n",
       "[19374 rows x 2 columns]"
      ]
     },
     "execution_count": 2,
     "metadata": {},
     "output_type": "execute_result"
    }
   ],
   "source": [
    "import pandas as pd\n",
    "df = pd.read_csv(data_path + \"5차년도_2차.csv\", encoding=\"cp949\")\n",
    "\n",
    "# Label Encoding\n",
    "label_map = {\n",
    "    \"fear\": 0,\n",
    "    \"surprise\": 1,\n",
    "    \"angry\": 2,\n",
    "    \"sadness\": 3,\n",
    "    \"neutral\": 4,\n",
    "    \"happiness\": 5,\n",
    "    \"disgust\": 6\n",
    "}\n",
    "df[\"y\"] = df[\"상황\"].map(label_map)\n",
    "\n",
    "x_col = '발화문'\n",
    "y_col = 'y'\n",
    "input_data = df[[x_col] + [y_col]]\n",
    "input_data"
   ]
  },
  {
   "cell_type": "markdown",
   "metadata": {
    "id": "dMSRwiA9a3uj"
   },
   "source": [
    "Split"
   ]
  },
  {
   "cell_type": "code",
   "execution_count": null,
   "metadata": {
    "colab": {
     "base_uri": "https://localhost:8080/"
    },
    "executionInfo": {
     "elapsed": 963,
     "status": "ok",
     "timestamp": 1746617323175,
     "user": {
      "displayName": "Heegook Jun (쿠키)",
      "userId": "14918135347093685311"
     },
     "user_tz": -540
    },
    "id": "Y7TogHYjy59Y",
    "outputId": "48135125-f3c5-4405-9602-9eeb995bfde0"
   },
   "outputs": [
    {
     "name": "stdout",
     "output_type": "stream",
     "text": [
      "            x      y\n",
      "train size: 17484  17484\n",
      "valid size: 921    921  \n",
      "test size : 969    969  \n"
     ]
    }
   ],
   "source": [
    "from sklearn.model_selection import train_test_split\n",
    "trval_X, test_X, trval_y, test_y = train_test_split(\n",
    "    input_data[x_col].tolist(), input_data[y_col].tolist(),\n",
    "    test_size=0.05, stratify=input_data[y_col], random_state=42)\n",
    "\n",
    "from sklearn.model_selection import train_test_split\n",
    "train_X, valid_X, train_y, valid_y = train_test_split(\n",
    "    trval_X, trval_y, test_size=0.05, stratify=trval_y, random_state=42)\n",
    "\n",
    "print(f\"            x      y\")\n",
    "print(f\"train size: {len(train_X):<5}  {len(train_y):<5}\")\n",
    "print(f\"valid size: {len(valid_X):<5}  {len(valid_y):<5}\")\n",
    "print(f\"test size : {len(test_X):<5}  {len(test_y):<5}\")"
   ]
  },
  {
   "cell_type": "markdown",
   "metadata": {
    "id": "aqHthn6ifAkW"
   },
   "source": [
    "# 토크나이저\n",
    "\n"
   ]
  },
  {
   "cell_type": "code",
   "execution_count": null,
   "metadata": {
    "id": "-_W6-SCCku1u"
   },
   "outputs": [],
   "source": [
    "class CustomKoBERTTokenizer:\n",
    "    def __init__(self, vocab_size=1000):"
   ]
  },
  {
   "cell_type": "markdown",
   "metadata": {
    "id": "amos_vrjiZTQ"
   },
   "source": [
    "## vocab 생성\n",
    "\n",
    "토크나이저 첫 생성 시 vocab 만들기 위해\n",
    "\n",
    "문장 데이터 입력해서 학습시켜야 함"
   ]
  },
  {
   "cell_type": "code",
   "execution_count": null,
   "metadata": {
    "colab": {
     "base_uri": "https://localhost:8080/"
    },
    "executionInfo": {
     "elapsed": 34,
     "status": "ok",
     "timestamp": 1746617326247,
     "user": {
      "displayName": "Heegook Jun (쿠키)",
      "userId": "14918135347093685311"
     },
     "user_tz": -540
    },
    "id": "ByzqFN_bfyfJ",
    "outputId": "274804b3-09d1-40dc-a9ad-07abdaa8e976"
   },
   "outputs": [
    {
     "name": "stdout",
     "output_type": "stream",
     "text": [
      "19374\n"
     ]
    },
    {
     "data": {
      "text/plain": [
       "['헐! 나 이벤트에 당첨 됐어.',\n",
       " '내가 좋아하는 인플루언서가 이벤트를 하더라고. 그래서 그냥 신청 한번 해봤지.',\n",
       " '한 명 뽑는 거였는데, 그게 바로 내가 된 거야.']"
      ]
     },
     "execution_count": 5,
     "metadata": {},
     "output_type": "execute_result"
    }
   ],
   "source": [
    "corpus = input_data['발화문'].tolist()\n",
    "print(len(corpus))\n",
    "corpus[:3]"
   ]
  },
  {
   "cell_type": "code",
   "execution_count": null,
   "metadata": {
    "id": "mlWYFO-_fJil"
   },
   "outputs": [],
   "source": [
    "custom_tokenizer = CustomKoBERTTokenizer(vocab_size=5000)\n",
    "custom_tokenizer.train(corpus)"
   ]
  },
  {
   "cell_type": "markdown",
   "metadata": {
    "id": "CW1yUnAulQpm"
   },
   "source": [
    "## 구현: 인코드/디코드\n",
    "\n",
    "토크나이저 encode/decode 기능 구현되어야 함\n",
    "\n"
   ]
  },
  {
   "cell_type": "code",
   "execution_count": null,
   "metadata": {
    "id": "HeOfGX-qf_AV"
   },
   "outputs": [],
   "source": [
    "test_sentences = [\n",
    "    \"그는 밥을 먹는다\",\n",
    "    \"빨리 먹는다\",\n",
    "    \"맛있게 먹는다\"\n",
    "]"
   ]
  },
  {
   "cell_type": "code",
   "execution_count": null,
   "metadata": {
    "colab": {
     "base_uri": "https://localhost:8080/"
    },
    "executionInfo": {
     "elapsed": 48,
     "status": "ok",
     "timestamp": 1746617443699,
     "user": {
      "displayName": "Heegook Jun (쿠키)",
      "userId": "14918135347093685311"
     },
     "user_tz": -540
    },
    "id": "DGWQ8ySNiY3F",
    "outputId": "a91b8110-9302-4740-a00a-f4be86156a1f"
   },
   "outputs": [
    {
     "name": "stdout",
     "output_type": "stream",
     "text": [
      "=== Testing word '먹는다' ===\n",
      "\n",
      "Text     : 그는 밥을 먹는다\n",
      "Tokens   : ['[CLS]', '_그', '는', '_밥', '을', '_먹', '는다', '[SEP]']\n",
      "Token ids: [2, 61, 19, 695, 107, 432, 3495, 3]\n",
      "Decoded  : 그는 밥을 먹는다\n",
      "\n",
      "Text     : 빨리 먹는다\n",
      "Tokens   : ['[CLS]', '_빨리', '_먹', '는다', '[SEP]']\n",
      "Token ids: [2, 446, 432, 3495, 3]\n",
      "Decoded  : 빨리 먹는다\n",
      "\n",
      "Text     : 맛있게 먹는다\n",
      "Tokens   : ['[CLS]', '_맛있', '게', '_먹', '는다', '[SEP]']\n",
      "Token ids: [2, 448, 164, 432, 3495, 3]\n",
      "Decoded  : 맛있게 먹는다\n"
     ]
    }
   ],
   "source": [
    "print(\"=== Testing word '먹는다' ===\")\n",
    "for sentence in test_sentences:\n",
    "    tokens, token_ids = custom_tokenizer.encode(sentence)\n",
    "    print(f\"\\nText     : {sentence}\")\n",
    "    print(f\"Tokens   : {tokens}\")\n",
    "    print(f\"Token ids: {token_ids}\")\n",
    "    print(f\"Decoded  : {custom_tokenizer.decode(tokens)}\")"
   ]
  },
  {
   "cell_type": "code",
   "execution_count": null,
   "metadata": {
    "colab": {
     "base_uri": "https://localhost:8080/"
    },
    "executionInfo": {
     "elapsed": 12,
     "status": "ok",
     "timestamp": 1746617478223,
     "user": {
      "displayName": "Heegook Jun (쿠키)",
      "userId": "14918135347093685311"
     },
     "user_tz": -540
    },
    "id": "1DiFyhgnieM1",
    "outputId": "8564490d-ce24-49b5-e6a8-d34ddf349e0c"
   },
   "outputs": [
    {
     "name": "stdout",
     "output_type": "stream",
     "text": [
      "\n",
      "=== Testing OOV handling ===\n",
      "\n",
      "Text     : 나는 아이스아메리카노를 마신다\n",
      "Tokens   : ['[CLS]', '_나', '는', '_아이', '[UNK]', '아', '[UNK]', '리', '카', '노', '를', '_마', '신', '다', '[SEP]']\n",
      "Token ids: [2, 7, 19, 371, 0, 17, 0, 2365, 3234, 3883, 24, 410, 2764, 229, 3]\n",
      "Decoded  : 나는 아이아리카노를 마신다\n",
      "\n",
      "Text     : 그는 스마트폰으로 인터넷서핑을 한다\n",
      "Tokens   : ['[CLS]', '_그', '는', '_스', '마', '트', '[UNK]', '으로', '_인터넷', '서', '[UNK]', '을', '_한다', '[SEP]']\n",
      "Token ids: [2, 61, 19, 1951, 2561, 1919, 0, 530, 3842, 117, 0, 107, 1153, 3]\n",
      "Decoded  : 그는 스마트으로 인터넷서을 한다\n"
     ]
    }
   ],
   "source": [
    "# Test with OOV words\n",
    "oov_sentences = [\n",
    "    \"나는 아이스아메리카노를 마신다\",  # \"아이스아메리카노\" might be OOV\n",
    "    \"그는 스마트폰으로 인터넷서핑을 한다\"  # \"스마트폰\", \"인터넷서핑\" might be OOV\n",
    "]\n",
    "\n",
    "print(\"\\n=== Testing OOV handling ===\")\n",
    "for sentence in oov_sentences:\n",
    "    tokens, token_ids = custom_tokenizer.encode(sentence)\n",
    "    print(f\"\\nText     : {sentence}\")\n",
    "    print(f\"Tokens   : {tokens}\")\n",
    "    print(f\"Token ids: {token_ids}\")\n",
    "    print(f\"Decoded  : {custom_tokenizer.decode(tokens)}\")"
   ]
  },
  {
   "cell_type": "markdown",
   "metadata": {
    "id": "Qu9GsnCUd0ZE"
   },
   "source": [
    "## 구현: 모델 입력"
   ]
  },
  {
   "cell_type": "code",
   "execution_count": null,
   "metadata": {
    "id": "KMc1t9efTVJL"
   },
   "outputs": [],
   "source": [
    "model_path = \"drive/MyDrive/2025/KW/Model/\"\n",
    "model_id = \"monologg/kobert\""
   ]
  },
  {
   "cell_type": "code",
   "execution_count": null,
   "metadata": {
    "colab": {
     "base_uri": "https://localhost:8080/"
    },
    "executionInfo": {
     "elapsed": 13737,
     "status": "ok",
     "timestamp": 1746685850337,
     "user": {
      "displayName": "Heegook Jun (쿠키)",
      "userId": "14918135347093685311"
     },
     "user_tz": -540
    },
    "id": "U7szuQxXeK91",
    "outputId": "d755c7f0-693f-4b73-f88b-52a98335bfe0"
   },
   "outputs": [
    {
     "name": "stderr",
     "output_type": "stream",
     "text": [
      "/usr/local/lib/python3.11/dist-packages/huggingface_hub/utils/_auth.py:94: UserWarning: \n",
      "The secret `HF_TOKEN` does not exist in your Colab secrets.\n",
      "To authenticate with the Hugging Face Hub, create a token in your settings tab (https://huggingface.co/settings/tokens), set it as secret in your Google Colab and restart your session.\n",
      "You will be able to reuse this secret in all of your notebooks.\n",
      "Please note that authentication is recommended but still optional to access public models or datasets.\n",
      "  warnings.warn(\n"
     ]
    }
   ],
   "source": [
    "from transformers import AutoTokenizer\n",
    "kobert_tokenizer = AutoTokenizer.from_pretrained(model_id, cache_dir=model_path, trust_remote_code=True)"
   ]
  },
  {
   "cell_type": "code",
   "execution_count": null,
   "metadata": {
    "colab": {
     "base_uri": "https://localhost:8080/"
    },
    "executionInfo": {
     "elapsed": 15,
     "status": "ok",
     "timestamp": 1746685850402,
     "user": {
      "displayName": "Heegook Jun (쿠키)",
      "userId": "14918135347093685311"
     },
     "user_tz": -540
    },
    "id": "hX_81yZl-jF2",
    "outputId": "e93a9e05-8d92-4d36-e5a1-344901638265"
   },
   "outputs": [
    {
     "data": {
      "text/plain": [
       "8002"
      ]
     },
     "execution_count": 5,
     "metadata": {},
     "output_type": "execute_result"
    }
   ],
   "source": [
    "# 원래 토크나이저의 vocab_size와 같을 필요는 없음\n",
    "kobert_tokenizer.vocab_size"
   ]
  },
  {
   "cell_type": "code",
   "execution_count": null,
   "metadata": {
    "id": "DRGrlEhuj5q2"
   },
   "outputs": [],
   "source": [
    "text = \"그는 밥을 먹는다\""
   ]
  },
  {
   "cell_type": "code",
   "execution_count": null,
   "metadata": {
    "colab": {
     "base_uri": "https://localhost:8080/"
    },
    "executionInfo": {
     "elapsed": 57,
     "status": "ok",
     "timestamp": 1746617500607,
     "user": {
      "displayName": "Heegook Jun (쿠키)",
      "userId": "14918135347093685311"
     },
     "user_tz": -540
    },
    "id": "9vl1nYt_j62V",
    "outputId": "3630ab85-c540-4340-e3f1-fe1e15213728"
   },
   "outputs": [
    {
     "data": {
      "text/plain": [
       "{'input_ids': tensor([[   2, 1191, 2266, 7088, 2010, 5760, 5782,    3,    1,    1,    1,    1,\n",
       "            1,    1,    1,    1,    1,    1,    1,    1]]), 'token_type_ids': tensor([[0, 0, 0, 0, 0, 0, 0, 0, 0, 0, 0, 0, 0, 0, 0, 0, 0, 0, 0, 0]]), 'attention_mask': tensor([[1, 1, 1, 1, 1, 1, 1, 1, 0, 0, 0, 0, 0, 0, 0, 0, 0, 0, 0, 0]])}"
      ]
     },
     "execution_count": 18,
     "metadata": {},
     "output_type": "execute_result"
    }
   ],
   "source": [
    "inputs = kobert_tokenizer(\n",
    "            text,\n",
    "            padding=\"max_length\",\n",
    "            truncation=True,\n",
    "            return_tensors=\"pt\",\n",
    "            max_length=20\n",
    "        )\n",
    "inputs"
   ]
  },
  {
   "cell_type": "code",
   "execution_count": null,
   "metadata": {
    "colab": {
     "base_uri": "https://localhost:8080/"
    },
    "executionInfo": {
     "elapsed": 46,
     "status": "ok",
     "timestamp": 1746617500657,
     "user": {
      "displayName": "Heegook Jun (쿠키)",
      "userId": "14918135347093685311"
     },
     "user_tz": -540
    },
    "id": "nCywTcibkDrk",
    "outputId": "da29df0a-6ba4-4a46-962f-3e7046093e04"
   },
   "outputs": [
    {
     "data": {
      "text/plain": [
       "{'input_ids': tensor([[   2,   61,   19,  695,  107,  432, 3495,    3,    1,    1,    1,    1,\n",
       "             1,    1,    1,    1,    1,    1,    1,    1]]),\n",
       " 'token_type_ids': tensor([[0, 0, 0, 0, 0, 0, 0, 0, 0, 0, 0, 0, 0, 0, 0, 0, 0, 0, 0, 0]]),\n",
       " 'attention_mask': tensor([[1, 1, 1, 1, 1, 1, 1, 1, 0, 0, 0, 0, 0, 0, 0, 0, 0, 0, 0, 0]])}"
      ]
     },
     "execution_count": 19,
     "metadata": {},
     "output_type": "execute_result"
    }
   ],
   "source": [
    "inputs = custom_tokenizer(\n",
    "            text,\n",
    "            padding=\"max_length\",\n",
    "            truncation=True,\n",
    "            return_tensors=\"pt\",\n",
    "            max_length=20\n",
    "        )\n",
    "inputs"
   ]
  },
  {
   "cell_type": "markdown",
   "metadata": {
    "id": "QVfREbrUl1Cv"
   },
   "source": [
    "## 구현: 스페셜 토큰"
   ]
  },
  {
   "cell_type": "code",
   "execution_count": null,
   "metadata": {
    "colab": {
     "base_uri": "https://localhost:8080/"
    },
    "executionInfo": {
     "elapsed": 3,
     "status": "ok",
     "timestamp": 1746617516090,
     "user": {
      "displayName": "Heegook Jun (쿠키)",
      "userId": "14918135347093685311"
     },
     "user_tz": -540
    },
    "id": "RP-mtB95keZc",
    "outputId": "613aeb0a-8f91-4163-dce3-9ac339f93a79"
   },
   "outputs": [
    {
     "name": "stdout",
     "output_type": "stream",
     "text": [
      "All special tokens:     ['[UNK]', '[SEP]', '[PAD]', '[CLS]', '[MASK]']\n",
      "All special token IDs:  [0, 3, 1, 2, 4]\n",
      "Special tokens map:     {'unk_token': '[UNK]', 'sep_token': '[SEP]', 'pad_token': '[PAD]', 'cls_token': '[CLS]', 'mask_token': '[MASK]'}\n"
     ]
    }
   ],
   "source": [
    "# List of the special token strings\n",
    "print(\"All special tokens:    \", kobert_tokenizer.all_special_tokens)\n",
    "\n",
    "# Corresponding token IDs\n",
    "print(\"All special token IDs: \", kobert_tokenizer.all_special_ids)\n",
    "\n",
    "# Mapping of each special token role\n",
    "print(\"Special tokens map:    \", kobert_tokenizer.special_tokens_map)"
   ]
  },
  {
   "cell_type": "code",
   "execution_count": null,
   "metadata": {
    "colab": {
     "base_uri": "https://localhost:8080/"
    },
    "executionInfo": {
     "elapsed": 7,
     "status": "ok",
     "timestamp": 1746617546027,
     "user": {
      "displayName": "Heegook Jun (쿠키)",
      "userId": "14918135347093685311"
     },
     "user_tz": -540
    },
    "id": "CwXKJhhbsgSO",
    "outputId": "938d539b-d8b5-4514-9395-7f7c04dfb861"
   },
   "outputs": [
    {
     "name": "stdout",
     "output_type": "stream",
     "text": [
      "그렇지. 경찰분들 진짜 고생 많으신 것 같애.\n",
      " → tokens[:10]: [2, 1205, 54, 975, 6416, 5931, 4368, 993, 6542, 517]\n",
      "\n",
      "무서워서 잠도 못 잤어.\n",
      " → tokens[:10]: [2, 2095, 6553, 7018, 6553, 3945, 5859, 2086, 517, 0]\n",
      "\n",
      "에이 그 정도는 아니야.\n",
      " → tokens[:10]: [2, 3289, 1185, 4099, 5760, 3097, 6844, 54, 3]\n",
      "\n",
      "아, 진짜? 기대된다. 뭐 찾아올지.\n",
      " → tokens[:10]: [2, 3093, 46, 4368, 258, 1269, 54, 2145, 4446, 6973]\n",
      "\n",
      "날은 아주 좋았어.\n",
      " → tokens[:10]: [2, 1407, 7086, 3128, 4208, 6855, 54, 3]\n",
      "\n"
     ]
    }
   ],
   "source": [
    "for txt in train_X[:5]:\n",
    "    token_ids = kobert_tokenizer.encode(txt)\n",
    "    print(txt)\n",
    "    print(\" → tokens[:10]:\", token_ids[:10])\n",
    "    print()"
   ]
  },
  {
   "cell_type": "code",
   "execution_count": null,
   "metadata": {
    "colab": {
     "base_uri": "https://localhost:8080/"
    },
    "executionInfo": {
     "elapsed": 12,
     "status": "ok",
     "timestamp": 1746617548120,
     "user": {
      "displayName": "Heegook Jun (쿠키)",
      "userId": "14918135347093685311"
     },
     "user_tz": -540
    },
    "id": "Fr3z-_mlsCRm",
    "outputId": "fad361e4-cd48-4bf3-c981-01274c1b23a7"
   },
   "outputs": [
    {
     "name": "stdout",
     "output_type": "stream",
     "text": [
      "그렇지. 경찰분들 진짜 고생 많으신 것 같애.\n",
      " → tokens[:10]: ['[CLS]', '_그렇', '지', '.', '_경찰', '분', '들', '_진짜', '_고생', '_많']\n",
      " → ids   [:10]: [2, 275, 34, 13, 1490, 1338, 75, 754, 1160, 286]\n",
      "\n",
      "무서워서 잠도 못 잤어.\n",
      " → tokens[:10]: ['[CLS]', '_무서워서', '_잠', '도', '_못', '_잤', '어', '.', '[SEP]']\n",
      " → ids   [:10]: [2, 655, 505, 63, 53, 656, 12, 13, 3]\n",
      "\n",
      "에이 그 정도는 아니야.\n",
      " → tokens[:10]: ['[CLS]', '_에이', '_그', '_정도', '는', '_아니야', '.', '[SEP]']\n",
      " → ids   [:10]: [2, 1785, 61, 803, 19, 306, 13, 3]\n",
      "\n",
      "아, 진짜? 기대된다. 뭐 찾아올지.\n",
      " → tokens[:10]: ['[CLS]', '_아', ',', '_진짜', '?', '_기대', '된다', '.', '_뭐', '_찾']\n",
      " → ids   [:10]: [2, 300, 40, 754, 112, 801, 2086, 13, 195, 476]\n",
      "\n",
      "날은 아주 좋았어.\n",
      " → tokens[:10]: ['[CLS]', '_날', '은', '_아주', '_좋', '았', '어', '.', '[SEP]']\n",
      " → ids   [:10]: [2, 1455, 65, 934, 16, 167, 12, 13, 3]\n",
      "\n"
     ]
    }
   ],
   "source": [
    "for txt in train_X[:5]:\n",
    "    tokens, token_ids = custom_tokenizer.encode(txt)\n",
    "    print(txt)\n",
    "    print(\" → tokens[:10]:\", tokens[:10])\n",
    "    print(\" → ids   [:10]:\", token_ids[:10])\n",
    "    print()"
   ]
  },
  {
   "cell_type": "code",
   "execution_count": null,
   "metadata": {
    "id": "jjolwFdfsZy1"
   },
   "outputs": [],
   "source": []
  }
 ],
 "metadata": {
  "colab": {
   "authorship_tag": "ABX9TyMX8/Gv2/N9RYrOZJ0Ex5MQ",
   "mount_file_id": "1zuC9wSHQ2KYr6gp5AfPD4ZqulLNboKLe",
   "provenance": [],
   "toc_visible": true
  },
  "kernelspec": {
   "display_name": "Python 3",
   "name": "python3"
  },
  "language_info": {
   "name": "python"
  }
 },
 "nbformat": 4,
 "nbformat_minor": 0
}
